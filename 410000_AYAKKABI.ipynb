{
  "cells": [
    {
      "cell_type": "markdown",
      "metadata": {
        "id": "view-in-github",
        "colab_type": "text"
      },
      "source": [
        "<a href=\"https://colab.research.google.com/github/Turgut-06/MyBlog-With-ASP.NET-and-MSSQL/blob/master/410000_AYAKKABI.ipynb\" target=\"_parent\"><img src=\"https://colab.research.google.com/assets/colab-badge.svg\" alt=\"Open In Colab\"/></a>"
      ]
    },
    {
      "cell_type": "code",
      "execution_count": null,
      "metadata": {
        "colab": {
          "base_uri": "https://localhost:8080/"
        },
        "id": "SetAo-G9PJAd",
        "outputId": "29a81ad2-0c4d-40ad-8ffa-182fe3bcd05b"
      },
      "outputs": [
        {
          "output_type": "stream",
          "name": "stdout",
          "text": [
            "Mounted at /content/drive\n"
          ]
        }
      ],
      "source": [
        "from google.colab import drive\n",
        "drive.mount('/content/drive')"
      ]
    },
    {
      "cell_type": "code",
      "execution_count": null,
      "metadata": {
        "id": "Pe7DxNH7SrAD"
      },
      "outputs": [],
      "source": [
        "zip_adres = \"/content/drive/My Drive/ayakkabı.zip\"\n",
        "!cp \"{zip_adres}\" ."
      ]
    },
    {
      "cell_type": "code",
      "execution_count": null,
      "metadata": {
        "id": "2lBDhKt1Ssjs"
      },
      "outputs": [],
      "source": [
        "!unzip -q ayakkabı.zip\n",
        "\n",
        "!rm ayakkabı.zip"
      ]
    },
    {
      "cell_type": "code",
      "execution_count": null,
      "metadata": {
        "colab": {
          "base_uri": "https://localhost:8080/"
        },
        "id": "nlMINbhLSxrr",
        "outputId": "3f929b1a-eeff-4981-f3a8-d943792cded1"
      },
      "outputs": [
        {
          "output_type": "stream",
          "name": "stderr",
          "text": [
            "100%|██████████| 49964/49964 [00:12<00:00, 3878.02it/s]\n"
          ]
        }
      ],
      "source": [
        "import os # dosyalara ulaşmak için kullanıyoruz\n",
        "import cv2 # resimleri okumak ve işlemek için gerekli\n",
        "from tqdm import tqdm # okuma işlemini takip için kullanıyoruz\n",
        "\n",
        "# klasor_adresi'ndeki resimleri okurken boyut * boyut\n",
        "# şeklinde yeniden boyutlandıracağız, CNN için kare şeklinde olmaları avantaj\n",
        "# kötü yanı: veride kareden çok farklı resimler orantısız olacak\n",
        "# başta kareye benzemeyenleri elemek için ek işlem yapılabilir.\n",
        "klasor_adresi = \"ayakkabı\"\n",
        "boyut = 64\n",
        "kanal = 3 # RGB, üç renk için üç kanal\n",
        "\n",
        "veri = []\n",
        "\n",
        "for resim_adi in tqdm(os.listdir(klasor_adresi)):\n",
        "    resim_adresi = os.path.join(klasor_adresi,resim_adi)\n",
        "    resim = cv2.imread(resim_adresi, cv2.IMREAD_COLOR)\n",
        "    if(resim is not None):\n",
        "        resim = cv2.resize(resim,(boyut,boyut))\n",
        "        veri.append([resim])"
      ]
    },
    {
      "cell_type": "code",
      "execution_count": null,
      "metadata": {
        "id": "TYzB7K9_SzzK"
      },
      "outputs": [],
      "source": [
        "import numpy\n",
        "\n",
        "# veriyi numpy array'ine çevir, veri sayısı * boyut * boyut * 3 şeklinde\n",
        "# renkli veri olduğu için 3 kanala sahip.\n",
        "veri = numpy.array(veri).reshape(-1,boyut,boyut,kanal).astype('float32')\n",
        "\n",
        "# piksel değerleri [0,255] aralığında, normalize edip [-1,1] aralığına çekiyoruz\n",
        "# bu network için daha elverişli hale gelmelerini sağlıyor\n",
        "veri = (veri - 127.5) / 127.5"
      ]
    },
    {
      "cell_type": "code",
      "execution_count": null,
      "metadata": {
        "id": "nA2I4iA2S2z2"
      },
      "outputs": [],
      "source": [
        "import tensorflow as tf\n",
        "\n",
        "# veri'yi tensorflow tarafından kullanılabilecek hale getiriyoruz,\n",
        "# BATCH_SIZE her seferinde kaç örneği network'e göndereceğimizi\n",
        "# belirliyor. GPU memory'e sığacak en büyük sayıyı kullanabiliriz,\n",
        "# 1 olursa her seferinde tek örneği kullanmış oluruz, GPU'nun\n",
        "# paralel işleme gücünden faydalanmamış oluruz. Ek olarak batch\n",
        "# normalization kullanıyorsak onu da etkileyen bir parametre.\n",
        "\n",
        "BATCH_SIZE = 4\n",
        "veri = tf.data.Dataset.from_tensor_slices(veri).batch(BATCH_SIZE)"
      ]
    },
    {
      "cell_type": "code",
      "execution_count": null,
      "metadata": {
        "id": "JO0hYOGyS3w5"
      },
      "outputs": [],
      "source": [
        "from tensorflow.keras import layers\n",
        "\n",
        "# generator network noise'den resim oluşturmakla görevli,\n",
        "# input noise boyutu fazla değil, aşama aşama boyutu arttırmamız gerekiyor.\n",
        "# zamanla boyut arttırma işlemini input istediğimiz türden resimlere dönüşecek\n",
        "# şekilde yapmasını öğrenecek.\n",
        "\n",
        "NOISE_SIZE = 100 # bir resmi oluşturmak için kaç farklı değere ihtiyacımız olduğu, elle belirlediğimiz bir sayı\n",
        "\n",
        "# GAN için iyi bir weight başlangıcı olarak öneriliyor\n",
        "initializer = tf.random_normal_initializer(0., 0.02)\n",
        "\n",
        "gen = tf.keras.Sequential()\n",
        "\n",
        "gen.add(layers.Dense(4*4*512, use_bias=False, input_shape=(NOISE_SIZE,)))\n",
        "gen.add(layers.BatchNormalization())\n",
        "gen.add(layers.LeakyReLU())\n",
        "\n",
        "gen.add(layers.Reshape((4, 4, 512)))\n",
        "\n",
        "gen.add(layers.Conv2DTranspose(512, (3, 3), strides=(1, 1), padding='same', kernel_initializer=initializer, use_bias=False))\n",
        "gen.add(layers.BatchNormalization())\n",
        "gen.add(layers.LeakyReLU())\n",
        "\n",
        "gen.add(layers.Conv2DTranspose(256, (5, 5), strides=(2, 2), padding='same', kernel_initializer=initializer, use_bias=False))\n",
        "gen.add(layers.BatchNormalization())\n",
        "gen.add(layers.LeakyReLU())\n",
        "\n",
        "gen.add(layers.Conv2DTranspose(128, (5, 5), strides=(2, 2), padding='same', kernel_initializer=initializer, use_bias=False))\n",
        "gen.add(layers.BatchNormalization())\n",
        "gen.add(layers.LeakyReLU())\n",
        "\n",
        "gen.add(layers.Conv2DTranspose(64, (5, 5), strides=(2, 2), padding='same', kernel_initializer=initializer, use_bias=False))\n",
        "gen.add(layers.BatchNormalization())\n",
        "gen.add(layers.LeakyReLU())\n",
        "\n",
        "gen.add(layers.Conv2DTranspose(kanal, (5, 5), strides=(2, 2), padding='same', kernel_initializer=initializer, use_bias=False, activation='tanh'))"
      ]
    },
    {
      "cell_type": "code",
      "execution_count": null,
      "metadata": {
        "id": "puY-B1qkS8rs"
      },
      "outputs": [],
      "source": [
        "# discriminator gelen resmin gerçek veya sahte olduğunu ayırt etmekle görevli\n",
        "\n",
        "dis = tf.keras.Sequential()\n",
        "\n",
        "dis.add(layers.Conv2D(64, (7, 7), strides=(2, 2), padding='same', input_shape=[boyut, boyut, kanal], kernel_initializer=initializer, use_bias=False))\n",
        "dis.add(layers.BatchNormalization())\n",
        "dis.add(layers.LeakyReLU())\n",
        "dis.add(layers.Dropout(0.3))\n",
        "\n",
        "dis.add(layers.Conv2D(128, (5, 5), strides=(2, 2), padding='same', kernel_initializer=initializer, use_bias=False))\n",
        "dis.add(layers.BatchNormalization())\n",
        "dis.add(layers.LeakyReLU())\n",
        "dis.add(layers.Dropout(0.3))\n",
        "\n",
        "dis.add(layers.Conv2D(256, (5, 5), strides=(2, 2), padding='same', kernel_initializer=initializer, use_bias=False))\n",
        "dis.add(layers.BatchNormalization())\n",
        "dis.add(layers.LeakyReLU())\n",
        "dis.add(layers.Dropout(0.3))\n",
        "\n",
        "dis.add(layers.Conv2D(512, (5, 5), strides=(2, 2), padding='same', kernel_initializer=initializer, use_bias=False))\n",
        "dis.add(layers.BatchNormalization())\n",
        "dis.add(layers.LeakyReLU())\n",
        "dis.add(layers.Dropout(0.3))\n",
        "\n",
        "dis.add(layers.Flatten())\n",
        "\n",
        "# son layer'da tek bir output veriyoruz,\n",
        "# input resim gerçek mi yoksa sahte mi diye belirten bir sayı\n",
        "dis.add(layers.Dense(1))"
      ]
    },
    {
      "cell_type": "code",
      "execution_count": null,
      "metadata": {
        "id": "dhgpxpalTBhC"
      },
      "outputs": [],
      "source": [
        "# network'ü eğitmek için hangi kombinasyonların iyi/kötü olduğunu\n",
        "# belirtecek sayısal bir değere ihtiyacımız var.\n",
        "# loss (kayıp) fonksiyonları bunu sağlıyor.\n",
        "# kısaca true label (olması gereken değerler) ve predicted label (network'ün mevcut tahminleri)\n",
        "# arasındaki farkın hesaplanma yöntemi.\n",
        "\n",
        "# Keras'daki yardımcı loss fonksiyonları: https://www.tensorflow.org/api_docs/python/tf/keras/losses\n",
        "\n",
        "\n",
        "# BinaryCrossentropy: sonuç iki class'dan birine ait olabilir (binary),\n",
        "# iki olasılık arasındaki farkı hesaplar (true ve predicted)\n",
        "# \"from_logits=True\" diyerek işlemi olasılık [0,1] değerleri üzerinden değil de\n",
        "# bunların logaritması üzerinden yapacağımızı söylüyoruz.\n",
        "\n",
        "cross_entropy = tf.keras.losses.BinaryCrossentropy(from_logits=True)\n",
        "\n",
        "# discriminator için olan loss fonksiyonu, train ederken kullanılacak\n",
        "# input olarak gerçek resimler (real) ve generator'ün oluşturduğu\n",
        "# sahte resimler (fake) veriliyor.\n",
        "\n",
        "def dis_loss(real_output, fake_output):\n",
        "    # gerçek olanlar için output 1 olmalıydı\n",
        "    real_loss = cross_entropy(tf.ones_like(real_output), real_output)\n",
        "\n",
        "    # sahte olanlar için de output 0 olmalıydı\n",
        "    fake_loss = cross_entropy(tf.zeros_like(fake_output), fake_output)\n",
        "\n",
        "    # ikisinin toplamı discriminator'ın hatasını verecek,\n",
        "    # yani gerçeğe gerçek, sahteye sahte demesi lazım, yoksa loss fazla olacak\n",
        "    # bu loss miktarınca weight'ler backpropagation ile düzenlenecek.\n",
        "    total_loss = real_loss + fake_loss\n",
        "    return total_loss\n",
        "\n",
        "# generator için loss daha sade, discriminator'un fake'ler için dediği 1 ise\n",
        "# yani fake'e real dediyse, generator için iyi.\n",
        "# discriminator fake'e fake diyorsa loss fazla olacak.\n",
        "\n",
        "def gen_loss(fake_output):\n",
        "    return cross_entropy(tf.ones_like(fake_output), fake_output)"
      ]
    },
    {
      "cell_type": "code",
      "execution_count": null,
      "metadata": {
        "id": "sq5HacReTFvb"
      },
      "outputs": [],
      "source": [
        "# optimizer loss'a göre weight'leri hangi yönde ayarlamamız gerektiğini\n",
        "# bulurken kullanılıyordu. çeşitli yöntemler var, şu an için CNN'lerde\n",
        "# \"adam\" iyi bir başlangıç sunuyor, parametre olarak verdiğimiz learning rate\n",
        "# tek turda weight'lerin ne kadar oranda değişebileceğini belirtiyor.\n",
        "\n",
        "# iki network de farklı olduğundan iki optimizer gerekli.\n",
        "\n",
        "gen_opt = tf.keras.optimizers.Adam(2e-4)\n",
        "dis_opt = tf.keras.optimizers.Adam(2e-4)"
      ]
    },
    {
      "cell_type": "code",
      "execution_count": null,
      "metadata": {
        "id": "970oJA_KTIk1"
      },
      "outputs": [],
      "source": [
        "# tek bir eğitim aşamasında yapacaklarımız\n",
        "# \"@tf.function\" şeklinde belirmemiz bu kısmın tensorflow'da çalışacak şekilde compile edilmesini sağlıyor\n",
        "@tf.function\n",
        "def train_step(images):\n",
        "    # BATCH_SIZE kadar noise vektörü oluştur, bu noise resmi oluşturmak için kullanılacak\n",
        "    noise = tf.random.normal([BATCH_SIZE, NOISE_SIZE])\n",
        "\n",
        "    # bu kısımda yaptığımız işlemler \"with tf.GradientTape()\" dediğimiz için\n",
        "    # takip edilecek ve türevi alınabilir halde tutulacak\n",
        "    # generator ve discriminator için iki ayrı GradientTape'e ihtiyacımız var\n",
        "    with tf.GradientTape() as gen_tape, tf.GradientTape() as dis_tape:\n",
        "        # bu batch için noise'den image yap\n",
        "        generated_images = gen(noise, training=True)\n",
        "\n",
        "        # real'i discriminator'dan geçir\n",
        "        real_output = dis(images, training=True)\n",
        "\n",
        "        # fake'i discriminator'dan geçir\n",
        "        fake_output = dis(generated_images, training=True)\n",
        "\n",
        "        # önceden yazdığımız fonksiyonlarla loss hesapla\n",
        "        gen_loss_val = gen_loss(fake_output)\n",
        "        dis_loss_val = dis_loss(real_output, fake_output)\n",
        "\n",
        "    # generator ve discriminator'un eğitilebilen değişkenleri için türevleri hesapla\n",
        "    grad_gen = gen_tape.gradient(gen_loss_val, gen.trainable_variables)\n",
        "    grad_dis = dis_tape.gradient(dis_loss_val, dis.trainable_variables)\n",
        "\n",
        "    # ve türevleri bu değişkenlere uygula\n",
        "    gen_opt.apply_gradients(zip(grad_gen, gen.trainable_variables))\n",
        "    dis_opt.apply_gradients(zip(grad_dis, dis.trainable_variables))\n",
        "\n"
      ]
    },
    {
      "cell_type": "code",
      "execution_count": null,
      "metadata": {
        "id": "n_G4iO5cTMqm"
      },
      "outputs": [],
      "source": [
        "from IPython import display\n",
        "import matplotlib.pyplot as plt\n",
        " # çıktıyı temizlemek için kullanacağız\n",
        "\n",
        "EPOCHS = 10000 # eğitim sırasında tüm veri üzerinden kaç kez geçeceğimiz\n",
        "\n",
        "# her epoch sonunda generator'ün halini kontrol ederken bu seed'i kullanacağız\n",
        "seed = tf.random.normal([25, NOISE_SIZE]) # 25 tane farklı noise, 25 farklı image gösterebilmek için\n",
        "\n",
        "# her epoch'da\n",
        "for epoch in range(EPOCHS):\n",
        "\n",
        "    # her batch için\n",
        "    for image_batch in veri:\n",
        "        # bir tur eğitim fonksiyonunu çağır\n",
        "        train_step(image_batch)\n",
        "\n",
        "    # bir epoch sonunda generator'ün ne durumda olduğunu kontrol etmek istiyoruz\n",
        "    # aynı seed'i verip oluşturulan resimleri alıyoruz\n",
        "    predictions = gen(seed, training=False)\n",
        "\n",
        "    fig = plt.figure(figsize=(10,10)) # alan genişliği için\n",
        "\n",
        "    for i in range(predictions.shape[0]):\n",
        "        plt.subplot(5, 5, i+1)\n",
        "        plt.imshow(cv2.cvtColor((predictions[i]* 127.5 + 127.5).numpy().reshape(boyut,boyut,kanal).astype('uint8') , cv2.COLOR_BGR2RGB))\n",
        "        plt.axis('off')\n",
        "\n",
        "    plt.show()\n",
        "\n",
        "    veri.shuffle(10000)\n",
        "\n",
        "    # eski çizimi temizle\n",
        "    display.clear_output(wait=True)"
      ]
    }
  ],
  "metadata": {
    "colab": {
      "provenance": [],
      "include_colab_link": true
    },
    "kernelspec": {
      "display_name": "Python 3",
      "name": "python3"
    },
    "language_info": {
      "name": "python"
    }
  },
  "nbformat": 4,
  "nbformat_minor": 0
}